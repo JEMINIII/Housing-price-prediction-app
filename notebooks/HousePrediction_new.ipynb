{
 "cells": [
  {
   "cell_type": "markdown",
   "id": "beddd10a",
   "metadata": {},
   "source": [
    "# House Price Prediction\n",
    "\n",
    "**Based on dataset provided by kaggale. Dataset url.**"
   ]
  },
  {
   "cell_type": "code",
   "execution_count": 1,
   "id": "5c8079cb",
   "metadata": {},
   "outputs": [],
   "source": [
    "import matplotlib.pyplot as plt\n",
    "import numpy as np\n",
    "import pandas as pd\n",
    "from sklearn.ensemble import RandomForestRegressor\n",
    "from sklearn.model_selection import train_test_split\n",
    "from sklearn.metrics import mean_absolute_error\n",
    "import seaborn as sns\n",
    "import warnings\n",
    "import math\n",
    "import scipy.stats as stats\n",
    "import scipy\n",
    "from sklearn.preprocessing import scale\n",
    "warnings.filterwarnings('ignore')"
   ]
  },
  {
   "cell_type": "code",
   "execution_count": 2,
   "id": "43a6f7e5",
   "metadata": {},
   "outputs": [],
   "source": [
    "data=pd.read_csv(\"Bengaluru_House_Data (1).csv\")\n",
    "# data.head()"
   ]
  },
  {
   "cell_type": "code",
   "execution_count": 5,
   "id": "b9a3087c",
   "metadata": {},
   "outputs": [],
   "source": [
    "data=data.drop([\"availability\",\"society\",\"area_type\",\"balcony\"],axis=1)"
   ]
  },
  {
   "cell_type": "code",
   "execution_count": 7,
   "id": "3ae5b983",
   "metadata": {},
   "outputs": [],
   "source": [
    "data=data.dropna()"
   ]
  },
  {
   "cell_type": "code",
   "execution_count": 9,
   "id": "cd76612b",
   "metadata": {},
   "outputs": [],
   "source": [
    "data.drop_duplicates(inplace=True)"
   ]
  },
  {
   "cell_type": "code",
   "execution_count": 11,
   "id": "5d040a47",
   "metadata": {
    "scrolled": false
   },
   "outputs": [],
   "source": [
    "data['BHK']=data[\"size\"].apply(lambda x: int(x.split(' ')[0]))"
   ]
  },
  {
   "cell_type": "code",
   "execution_count": 14,
   "id": "7c948e08",
   "metadata": {},
   "outputs": [],
   "source": [
    "def isfloat(x):\n",
    "    try:\n",
    "        float(x)\n",
    "    except:\n",
    "        return False\n",
    "    return True"
   ]
  },
  {
   "cell_type": "code",
   "execution_count": 15,
   "id": "102ef1be",
   "metadata": {},
   "outputs": [],
   "source": [
    "# data[~data['total_sqft'].apply(isfloat)].head(10)"
   ]
  },
  {
   "cell_type": "code",
   "execution_count": 16,
   "id": "7c701a16",
   "metadata": {},
   "outputs": [],
   "source": [
    "def convert_sqft_tonum(x):\n",
    "    token=x.split('-')\n",
    "    if len(token)==2:\n",
    "        return (float(token[0])+float(token[1]))/2\n",
    "    try:\n",
    "        return float(x)\n",
    "    except:\n",
    "        return None"
   ]
  },
  {
   "cell_type": "code",
   "execution_count": 17,
   "id": "c72623cb",
   "metadata": {},
   "outputs": [],
   "source": [
    "data=data.copy()\n",
    "data['total_sqft']=data['total_sqft'].apply(convert_sqft_tonum)"
   ]
  },
  {
   "cell_type": "code",
   "execution_count": 21,
   "id": "f8c05115",
   "metadata": {},
   "outputs": [],
   "source": [
    "data=data.dropna()"
   ]
  },
  {
   "cell_type": "code",
   "execution_count": 22,
   "id": "9139a6f3",
   "metadata": {},
   "outputs": [],
   "source": [
    "data.insert(4,\"price_per_sqft\",data.price*100000/data.total_sqft)"
   ]
  },
  {
   "cell_type": "code",
   "execution_count": 23,
   "id": "9c31ef75",
   "metadata": {},
   "outputs": [],
   "source": [
    "data.price_per_sqft=data.price_per_sqft.round(2)"
   ]
  },
  {
   "cell_type": "code",
   "execution_count": 25,
   "id": "89690771",
   "metadata": {},
   "outputs": [],
   "source": [
    "location_stats=data.location.value_counts()"
   ]
  },
  {
   "cell_type": "code",
   "execution_count": 27,
   "id": "b5128c89",
   "metadata": {},
   "outputs": [],
   "source": [
    "locationlessthan10=location_stats[location_stats<=10]"
   ]
  },
  {
   "cell_type": "code",
   "execution_count": 30,
   "id": "a79763e9",
   "metadata": {},
   "outputs": [],
   "source": [
    "data.location=data.location.apply(lambda x: 'other' if x in locationlessthan10 else x)\n",
    "# len(data.location.unique())\n"
   ]
  },
  {
   "cell_type": "code",
   "execution_count": 31,
   "id": "1fcd87d6",
   "metadata": {},
   "outputs": [],
   "source": [
    "data=data[~(data.total_sqft/data.BHK<300)]\n",
    "# data.head(10)"
   ]
  },
  {
   "cell_type": "code",
   "execution_count": 34,
   "id": "cb4da299",
   "metadata": {},
   "outputs": [],
   "source": [
    "data=data[data.bath<data.BHK+2]"
   ]
  },
  {
   "cell_type": "code",
   "execution_count": 36,
   "id": "8ae50626",
   "metadata": {},
   "outputs": [],
   "source": [
    "def remove_pps_outliers(df):\n",
    "    df_out=pd.DataFrame()\n",
    "    for key,subdf in df.groupby('location'):\n",
    "        m=np.mean(subdf.price_per_sqft)\n",
    "        st=np.std(subdf.price_per_sqft)\n",
    "        reduced_df=subdf[(subdf.price_per_sqft>(m-st))& (subdf.price_per_sqft<(m+st))]\n",
    "        df_out=pd.concat([df_out,reduced_df],ignore_index=True)\n",
    "    return df_out\n",
    "data=remove_pps_outliers(data)\n",
    "# data.shape\n",
    "# remove_pps_outliers(data)"
   ]
  },
  {
   "cell_type": "code",
   "execution_count": 37,
   "id": "95905a52",
   "metadata": {},
   "outputs": [],
   "source": [
    "def remove_bhk_outliers(df):\n",
    "    exclude_indices=np.array([])\n",
    "    for location, location_df in df.groupby('location'):\n",
    "        bhk_sats={}\n",
    "        for BHK,BHK_df in location_df.groupby('BHK'):\n",
    "            bhk_sats[BHK]={\n",
    "                'mean':np.mean(BHK_df.price_per_sqft),\n",
    "                'std':np.std(BHK_df.price_per_sqft),\n",
    "                'count':BHK_df.shape[0]\n",
    "            }\n",
    "        for BHK,BHK_df in location_df.groupby('BHK'):\n",
    "            stats=bhk_sats.get(BHK-1)\n",
    "            if stats and stats['count']>5:\n",
    "                exclude_indices=np.append(exclude_indices,BHK_df[BHK_df.price_per_sqft<(stats['mean'])].index.values)\n",
    "    return df.drop(exclude_indices,axis='index')\n",
    "\n",
    "data=remove_bhk_outliers(data)\n",
    "# data.shape"
   ]
  },
  {
   "cell_type": "code",
   "execution_count": 38,
   "id": "f305a2c0",
   "metadata": {
    "scrolled": true
   },
   "outputs": [],
   "source": [
    "data1=data.drop(['size','price_per_sqft'],axis='columns')\n",
    "data=data.drop(['size','price_per_sqft'],axis='columns')\n",
    "# data"
   ]
  },
  {
   "cell_type": "code",
   "execution_count": 39,
   "id": "0212577a",
   "metadata": {},
   "outputs": [],
   "source": [
    "dummies=pd.get_dummies(data.location)\n",
    "# dummies"
   ]
  },
  {
   "cell_type": "code",
   "execution_count": 40,
   "id": "80e51028",
   "metadata": {},
   "outputs": [],
   "source": [
    "data=pd.concat([data,dummies.drop(\"other\",axis=\"columns\")],axis=\"columns\")"
   ]
  },
  {
   "cell_type": "code",
   "execution_count": 42,
   "id": "2d3f6500",
   "metadata": {
    "scrolled": false
   },
   "outputs": [],
   "source": [
    "data=data.drop(['location'],axis=1)\n",
    "# data"
   ]
  },
  {
   "cell_type": "code",
   "execution_count": 43,
   "id": "aff9302a",
   "metadata": {},
   "outputs": [],
   "source": [
    "X=data.drop([\"price\"],axis=1)\n",
    "y=data[\"price\"]"
   ]
  },
  {
   "cell_type": "code",
   "execution_count": 44,
   "id": "8b84fc7e",
   "metadata": {},
   "outputs": [],
   "source": [
    "np.random.seed(30)\n",
    "from sklearn.model_selection import train_test_split\n",
    "X_train,X_test, y_train, y_test = train_test_split(X, \n",
    "                                                   y, \n",
    "                                                   test_size = 0.2)"
   ]
  },
  {
   "cell_type": "markdown",
   "id": "ca906441",
   "metadata": {},
   "source": [
    "Ridge regression(Accuracy)"
   ]
  },
  {
   "cell_type": "code",
   "execution_count": 46,
   "id": "18b9758b",
   "metadata": {},
   "outputs": [],
   "source": [
    "from sklearn.linear_model import Ridge"
   ]
  },
  {
   "cell_type": "code",
   "execution_count": 47,
   "id": "5c47ad41",
   "metadata": {
    "scrolled": true
   },
   "outputs": [
    {
     "data": {
      "text/plain": [
       "0.8751676248128201"
      ]
     },
     "execution_count": 47,
     "metadata": {},
     "output_type": "execute_result"
    }
   ],
   "source": [
    "model2=Ridge()\n",
    "model2.fit(X_train,y_train)\n",
    "model2.score(X_test,y_test)"
   ]
  },
  {
   "cell_type": "code",
   "execution_count": 48,
   "id": "5540a35e",
   "metadata": {},
   "outputs": [],
   "source": [
    "def price_predict(location,sqft,bath,BHK):\n",
    "    loc_index=np.where(X.columns==location)[0] \n",
    "    x=np.zeros(len(X.columns))\n",
    "    x[0]=sqft\n",
    "    x[1]=bath\n",
    "    x[2]=BHK\n",
    "    if loc_index >=0:\n",
    "        x[loc_index]=1\n",
    "    return model2.predict([x])[0]"
   ]
  },
  {
   "cell_type": "code",
   "execution_count": 49,
   "id": "aff1a854",
   "metadata": {
    "scrolled": true
   },
   "outputs": [],
   "source": [
    "# for content in data1.location:\n",
    "#     print (content.value_counts())\n",
    "data2 = sorted(list(set(data1.location)))\n",
    "# print(data2)\n",
    "\n",
    "for i in range (0,len(data2)):\n",
    "    data2[i]=data2[i],i+1\n",
    "#     print(data2[i])\n",
    "    \n",
    "# print(data2)"
   ]
  },
  {
   "cell_type": "code",
   "execution_count": 50,
   "id": "f0df21a1",
   "metadata": {},
   "outputs": [],
   "source": [
    "data_bhk=sorted(data.BHK.unique().tolist())\n",
    "for i in range(0,len(data_bhk)):\n",
    "    data_bhk[i]=data_bhk[i],i+1\n",
    "#     print(data_bhk[i])"
   ]
  },
  {
   "cell_type": "code",
   "execution_count": 51,
   "id": "9023fb73",
   "metadata": {
    "scrolled": true
   },
   "outputs": [],
   "source": [
    "data_bath = sorted(data1.bath.astype(int).unique().tolist())\n",
    "for i in range(0,len(data_bath)):\n",
    "    data_bath[i]=data_bath[i],i+1\n",
    "#     print(data_bath[i])"
   ]
  },
  {
   "cell_type": "code",
   "execution_count": 52,
   "id": "08d75cab",
   "metadata": {},
   "outputs": [
    {
     "data": {
      "application/vnd.jupyter.widget-view+json": {
       "model_id": "d7b2a0d48d534da99840d4fbb0e29538",
       "version_major": 2,
       "version_minor": 0
      },
      "text/plain": [
       "Dropdown(description='location', options=((' Devarachikkanahalli', 1), ('1st Block Jayanagar', 2), ('1st Phase…"
      ]
     },
     "metadata": {},
     "output_type": "display_data"
    },
    {
     "data": {
      "application/vnd.jupyter.widget-view+json": {
       "model_id": "68dc99ba48dc4760abe80eca607cba2c",
       "version_major": 2,
       "version_minor": 0
      },
      "text/plain": [
       "Dropdown(description='BHK', options=((1, 1), (2, 2), (3, 3), (4, 4), (5, 5), (6, 6), (7, 7), (8, 8), (9, 9), (…"
      ]
     },
     "metadata": {},
     "output_type": "display_data"
    },
    {
     "data": {
      "application/vnd.jupyter.widget-view+json": {
       "model_id": "ed593472eec544718e03064cedeae090",
       "version_major": 2,
       "version_minor": 0
      },
      "text/plain": [
       "Dropdown(description='bath', options=((1, 1), (2, 2), (3, 3), (4, 4), (5, 5), (6, 6), (7, 7), (8, 8), (9, 9), …"
      ]
     },
     "metadata": {},
     "output_type": "display_data"
    },
    {
     "data": {
      "application/vnd.jupyter.widget-view+json": {
       "model_id": "5ae3e53a1ac54c28ad8e13c0a1d852f6",
       "version_major": 2,
       "version_minor": 0
      },
      "text/plain": [
       "IntSlider(value=0, continuous_update=False, description='Square Feet', max=15000, step=10)"
      ]
     },
     "metadata": {},
     "output_type": "display_data"
    },
    {
     "data": {
      "application/vnd.jupyter.widget-view+json": {
       "model_id": "e1fa609db57948c792d1240023b159e6",
       "version_major": 2,
       "version_minor": 0
      },
      "text/plain": [
       "VBox(children=(Button(description='Predict', style=ButtonStyle()), Output()))"
      ]
     },
     "metadata": {},
     "output_type": "display_data"
    }
   ],
   "source": [
    "import ipywidgets as widgets\n",
    "from IPython.display import display, Markdown, clear_output\n",
    "loc_dropdown = widgets.Dropdown(\n",
    "    options=data2,    \n",
    "    value=1,\n",
    "    description='location',\n",
    ")\n",
    "bhk_dropdown= widgets.Dropdown(\n",
    "    options=data_bhk,    \n",
    "    value=1,\n",
    "    description='BHK',\n",
    ")\n",
    "bath_dropdown= widgets.Dropdown(\n",
    "    options=data_bath,    \n",
    "    value=1,\n",
    "    description='bath',\n",
    ")\n",
    "squarefeet_slider = widgets.IntSlider(\n",
    "    val=0,\n",
    "    min=0,\n",
    "    max=15000,\n",
    "    step=10,\n",
    "    description='Square Feet',\n",
    "    disabled=False,\n",
    "    continuous_update=False,\n",
    "    orientation='horizontal',\n",
    "    readout=True,\n",
    "    readout_format='d'\n",
    ")\n",
    "display(loc_dropdown)\n",
    "display(bhk_dropdown)\n",
    "display(bath_dropdown)\n",
    "display(squarefeet_slider)\n",
    "\n",
    "\n",
    "button = widgets.Button(description='Predict')\n",
    "out = widgets.Output()\n",
    "def on_button_clicked(_):\n",
    "      # \"linking function with output\"\n",
    "      with out:\n",
    "          # what happens when we press the button\n",
    "          clear_output()\n",
    "          print('you cant predict tomorrow but you can predict housing rates!')\n",
    "          print(price_predict(loc_dropdown.label,squarefeet_slider.value,bath_dropdown.value,bhk_dropdown.value))\n",
    "# linking button and function together using a button's method\n",
    "button.on_click(on_button_clicked)\n",
    "# displaying button and its output together\n",
    "widgets.VBox([button,out])\n"
   ]
  },
  {
   "cell_type": "markdown",
   "id": "cccdd1fc",
   "metadata": {},
   "source": [
    "# "
   ]
  },
  {
   "cell_type": "code",
   "execution_count": 53,
   "id": "e8226d29",
   "metadata": {},
   "outputs": [],
   "source": [
    "import pickle\n",
    "\n",
    "pickle.dump(model2,open(\"ridge_regression.pkl\",\"wb\"))"
   ]
  },
  {
   "cell_type": "code",
   "execution_count": 54,
   "id": "3a24f83b",
   "metadata": {},
   "outputs": [],
   "source": [
    "loaded_model = pickle.load(open(\"random_forest_model_1.pkl\",\"rb\"))\n",
    "# loaded_model.score(X_test,y_test)"
   ]
  },
  {
   "cell_type": "code",
   "execution_count": null,
   "id": "624ac147",
   "metadata": {},
   "outputs": [],
   "source": []
  }
 ],
 "metadata": {
  "kernelspec": {
   "display_name": "Python 3 (ipykernel)",
   "language": "python",
   "name": "python3"
  },
  "language_info": {
   "codemirror_mode": {
    "name": "ipython",
    "version": 3
   },
   "file_extension": ".py",
   "mimetype": "text/x-python",
   "name": "python",
   "nbconvert_exporter": "python",
   "pygments_lexer": "ipython3",
   "version": "3.9.7"
  }
 },
 "nbformat": 4,
 "nbformat_minor": 5
}
